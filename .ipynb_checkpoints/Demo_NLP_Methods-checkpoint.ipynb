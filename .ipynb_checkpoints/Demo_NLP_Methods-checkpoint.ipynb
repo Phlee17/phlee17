{
 "cells": [
  {
   "cell_type": "markdown",
   "metadata": {},
   "source": [
    "# Baseline NLP Methods of Document Similarity"
   ]
  },
  {
   "cell_type": "code",
   "execution_count": null,
   "metadata": {},
   "outputs": [],
   "source": [
    "### important : To run word2vec example\n",
    "#### 1. download BNC word2vec model from [http://vectors.nlpl.eu/repository/](http://vectors.nlpl.eu/repository/)\n",
    "#### 2. modify path W2V_PATH"
   ]
  },
  {
   "cell_type": "markdown",
   "metadata": {},
   "source": [
    "The following is a demonstration of document similarity methods which have already been tested as part of the previous POC:\n",
    "* TF-IDF\n",
    "    * \"Term Frequency - Inverse Document Frequency\" : instead of using normal frequencies in a term-document matrix we weigh the term counts by this measure, which gives higher values to lesser occurring words\n",
    "    * Advantage : Attributes more importance to words which have low frequency\n",
    "    * Disadvantage : does not take into account word order or semantic information of each word\n",
    "* LSA\n",
    "    * \"Latent Semantic Analysis\" : the idea of reducing dimensions of term-document matrix to create a latent space, which has been proven to be useful in representing term as well as document similarity\n",
    "    * Advantage: Dimension reduction allows for very fast computation time\n",
    "    * Disadvantage: performs very poorly by itself\n",
    "* TF-IDF & LSA \n",
    "    * the above methods combined\n",
    "    * Is a good approximation of document similarity, but there are many more advanced methods which exist\n",
    "* LDA\n",
    "    * \"Latent Dirichlet Allocation\" : uses probabilities of \"topics\" occurring in a document and the LDA distribution \n",
    "    * [this article](https://medium.com/@lettier/how-does-lda-work-ill-explain-using-emoji-108abf40fa7d) discribes it as a soft-clustering, allowing for fuzzy boundaries between documents in a latent space\n",
    "    * can be used with TF-IDF counts\n",
    "    * very similar advantages and disadvantages to LSA\n",
    "* Word2vec (pretrained)\n",
    "    * using pretrained word embeddings as word representations\n",
    "    * requires some way of representing whole text (document) as a single vector\n",
    "    * This can be a very good route with a complex document representation, like doc2vec or skip-thought, or perhaps InferSent, but this demo shows a very simplified version of document representation\n",
    "    \n",
    "    \n",
    "Some extra notation to understand the demo:\n",
    "\n",
    "- A **term-document matrix** is a matrix whos rows correspond to a term and columns to a document, for example, given the documents \"Hello world!\", and \"Hello!\", the corresponding term-document matrix:"
   ]
  },
  {
   "cell_type": "markdown",
   "metadata": {},
   "source": [
    "|       | Hello | World  |\n",
    "| ----      |   ----  |       ---- |\n",
    "| Document 1     | 1         | 1          |\n",
    "| Document 2    | 1         | 0          |"
   ]
  },
  {
   "cell_type": "markdown",
   "metadata": {},
   "source": [
    "- **fit_transform** is the method which corresponds to training a model and outputing results\n",
    "\n",
    "- **cosine similarity** is used as a similarity metric, this is a rather standard measurement of similarity between vectors in NLP applications"
   ]
  },
  {
   "cell_type": "code",
   "execution_count": 12,
   "metadata": {},
   "outputs": [],
   "source": [
    "### CHANGE BELOW PATH"
   ]
  },
  {
   "cell_type": "code",
   "execution_count": 26,
   "metadata": {},
   "outputs": [],
   "source": [
    "W2V_PATH = '../word2vec_model/model.txt'"
   ]
  },
  {
   "cell_type": "markdown",
   "metadata": {},
   "source": [
    "# TF-IDF"
   ]
  },
  {
   "cell_type": "code",
   "execution_count": 14,
   "metadata": {},
   "outputs": [
    {
     "name": "stdout",
     "output_type": "stream",
     "text": [
      "Vocabulary : ['am', 'eggs', 'long', 'love', 'loves', 'sam', 'sentence']\n",
      "\n",
      "\n",
      "Term-document matrix: \n"
     ]
    },
    {
     "data": {
      "text/plain": [
       "matrix([[0.46345796, 0.        , 0.58783765, 0.        , 0.        ,\n",
       "         0.30675807, 0.58783765],\n",
       "        [0.83388421, 0.        , 0.        , 0.        , 0.        ,\n",
       "         0.55193942, 0.        ],\n",
       "        [0.        , 0.        , 0.        , 0.88654763, 0.        ,\n",
       "         0.46263733, 0.        ],\n",
       "        [0.        , 0.66338461, 0.        , 0.        , 0.66338461,\n",
       "         0.34618161, 0.        ]])"
      ]
     },
     "execution_count": 14,
     "metadata": {},
     "output_type": "execute_result"
    }
   ],
   "source": [
    "from sklearn.feature_extraction.text import TfidfVectorizer\n",
    "from sklearn.metrics.pairwise import cosine_similarity\n",
    "import operator\n",
    "import itertools\n",
    "\n",
    "# a toy corpora\n",
    "document1 = 'Sam I am. Long sentence.'\n",
    "document2 = 'I am Sam'\n",
    "document3 = 'I love Sam'\n",
    "document4 = 'Sam loves eggs'\n",
    "documents = [document1, document2, document3, document4]\n",
    "tfidf_model = TfidfVectorizer()\n",
    "\n",
    "X_tfidf = tfidf_model.fit_transform(documents)\n",
    "vocabulary_tfidf = sorted(tfidf_model.vocabulary_.keys(), key = operator.itemgetter(0))\n",
    "print('Vocabulary :', vocabulary_tfidf)\n",
    "# note that the vectorizer does not consider \"I\" as a token in the vocabulary, due to the built in tokenizer and stop-word list\n",
    "print('\\n\\nTerm-document matrix: ')\n",
    "X_tfidf.todense()"
   ]
  },
  {
   "cell_type": "code",
   "execution_count": 15,
   "metadata": {},
   "outputs": [
    {
     "name": "stdout",
     "output_type": "stream",
     "text": [
      "The sentence - \" Sam I am. Long sentence. \" - and sentence - \" I am Sam \" - have a similarity score of :\n",
      "55.58 %\n",
      "The sentence - \" Sam I am. Long sentence. \" - and sentence - \" I love Sam \" - have a similarity score of :\n",
      "14.19 %\n",
      "The sentence - \" Sam I am. Long sentence. \" - and sentence - \" Sam loves eggs \" - have a similarity score of :\n",
      "10.62 %\n",
      "The sentence - \" I am Sam \" - and sentence - \" I love Sam \" - have a similarity score of :\n",
      "25.53 %\n",
      "The sentence - \" I am Sam \" - and sentence - \" Sam loves eggs \" - have a similarity score of :\n",
      "19.11 %\n",
      "The sentence - \" I love Sam \" - and sentence - \" Sam loves eggs \" - have a similarity score of :\n",
      "16.02 %\n"
     ]
    }
   ],
   "source": [
    "for i, j in list(itertools.combinations(range(0, 4), r=2)):\n",
    "    print('The sentence - \"', documents[i], '\" - and sentence - \"', documents[j], '\" - have a similarity score of :')\n",
    "    print(round(cosine_similarity(X_tfidf[i], X_tfidf[j])[0][0]*100,2), '%')"
   ]
  },
  {
   "cell_type": "markdown",
   "metadata": {},
   "source": [
    "# LSA"
   ]
  },
  {
   "cell_type": "code",
   "execution_count": 16,
   "metadata": {},
   "outputs": [
    {
     "name": "stdout",
     "output_type": "stream",
     "text": [
      "Vocabulary:  ['eggs', 'long', 'love', 'loves', 'sam', 'sentence']\n",
      "\n",
      "\n",
      "Term-document matrix: \n",
      "[[0 1 0 0 1 1]\n",
      " [0 0 0 0 1 0]\n",
      " [0 0 1 0 1 0]\n",
      " [1 0 0 1 1 0]]\n"
     ]
    }
   ],
   "source": [
    "from sklearn.decomposition import TruncatedSVD\n",
    "from sklearn.feature_extraction.text import CountVectorizer\n",
    "\n",
    "stop = ['am']\n",
    "\n",
    "count_vectorizer = CountVectorizer(ngram_range = (1,1), stop_words = stop)\n",
    "bow = count_vectorizer.fit_transform(documents)\n",
    "vocabulary_bag_of_words = count_vectorizer.get_feature_names()\n",
    "print('Vocabulary: ', vocabulary_bag_of_words)\n",
    "print('\\n\\nTerm-document matrix: ')\n",
    "print(bow.todense())"
   ]
  },
  {
   "cell_type": "code",
   "execution_count": 17,
   "metadata": {},
   "outputs": [
    {
     "name": "stdout",
     "output_type": "stream",
     "text": [
      "shape of matrix before lsa:  (4, 6)\n",
      "shape of matrix after lsa:  (4, 2)\n",
      "\n",
      "\n",
      "Reduced dimension matrix: \n",
      "[[ 1.34332067e+00 -1.00000000e+00]\n",
      " [ 8.46041188e-01 -9.40085061e-16]\n",
      " [ 1.03820628e+00 -2.22848798e-15]\n",
      " [ 1.34332067e+00  1.00000000e+00]]\n"
     ]
    }
   ],
   "source": [
    "lsa_model = TruncatedSVD(n_components=2, algorithm='randomized', n_iter=100, random_state=122)\n",
    "print('shape of matrix before lsa: ', bow.shape)\n",
    "X_lsa = lsa_model.fit_transform(bow)\n",
    "print('shape of matrix after lsa: ', X_lsa.shape)\n",
    "print('\\n\\nReduced dimension matrix: ')\n",
    "print(X_lsa)"
   ]
  },
  {
   "cell_type": "code",
   "execution_count": 18,
   "metadata": {},
   "outputs": [
    {
     "name": "stdout",
     "output_type": "stream",
     "text": [
      "The sentence - \" Sam I am. Long sentence. \" - and sentence - \" I am Sam \" - have a similarity score of :\n",
      "80.0 %\n",
      "The sentence - \" Sam I am. Long sentence. \" - and sentence - \" I love Sam \" - have a similarity score of :\n",
      "80.0 %\n",
      "The sentence - \" Sam I am. Long sentence. \" - and sentence - \" Sam loves eggs \" - have a similarity score of :\n",
      "28.999999999999996 %\n",
      "The sentence - \" I am Sam \" - and sentence - \" I love Sam \" - have a similarity score of :\n",
      "100.0 %\n",
      "The sentence - \" I am Sam \" - and sentence - \" Sam loves eggs \" - have a similarity score of :\n",
      "80.0 %\n",
      "The sentence - \" I love Sam \" - and sentence - \" Sam loves eggs \" - have a similarity score of :\n",
      "80.0 %\n"
     ]
    }
   ],
   "source": [
    "for i, j in list(itertools.combinations(range(0, 4), r=2)):\n",
    "    print('The sentence - \"', documents[i], '\" - and sentence - \"', documents[j], '\" - have a similarity score of :')\n",
    "    print(round(cosine_similarity([X_lsa[i]], [X_lsa[j]])[0][0], 2)*100, '%')"
   ]
  },
  {
   "cell_type": "markdown",
   "metadata": {},
   "source": [
    "# TF-IDF & LSA"
   ]
  },
  {
   "cell_type": "code",
   "execution_count": 19,
   "metadata": {},
   "outputs": [
    {
     "name": "stdout",
     "output_type": "stream",
     "text": [
      "Reduced dimension matrix: \n"
     ]
    },
    {
     "data": {
      "text/plain": [
       "array([[ 0.77258412, -0.44913536],\n",
       "       [ 0.84472771, -0.23587201],\n",
       "       [ 0.51728441,  0.47374375],\n",
       "       [ 0.42843616,  0.70298039]])"
      ]
     },
     "execution_count": 19,
     "metadata": {},
     "output_type": "execute_result"
    }
   ],
   "source": [
    "X_tfidf_and_lsa = lsa_model.fit_transform(X_tfidf)\n",
    "print('Reduced dimension matrix: ')\n",
    "X_tfidf_and_lsa"
   ]
  },
  {
   "cell_type": "code",
   "execution_count": 20,
   "metadata": {},
   "outputs": [
    {
     "name": "stdout",
     "output_type": "stream",
     "text": [
      "The sentence - \" Sam I am. Long sentence. \" - and sentence - \" I am Sam \" - have a similarity score of :\n",
      "96.78 %\n",
      "The sentence - \" Sam I am. Long sentence. \" - and sentence - \" I love Sam \" - have a similarity score of :\n",
      "29.81 %\n",
      "The sentence - \" Sam I am. Long sentence. \" - and sentence - \" Sam loves eggs \" - have a similarity score of :\n",
      "2.08 %\n",
      "The sentence - \" I am Sam \" - and sentence - \" I love Sam \" - have a similarity score of :\n",
      "52.87 %\n",
      "The sentence - \" I am Sam \" - and sentence - \" Sam loves eggs \" - have a similarity score of :\n",
      "27.16 %\n",
      "The sentence - \" I love Sam \" - and sentence - \" Sam loves eggs \" - have a similarity score of :\n",
      "96.05 %\n"
     ]
    }
   ],
   "source": [
    "for i, j in list(itertools.combinations(range(0, 4), r=2)):\n",
    "    print('The sentence - \"', documents[i], '\" - and sentence - \"', documents[j], '\" - have a similarity score of :')\n",
    "    print(round(cosine_similarity([X_tfidf_and_lsa[i]], [X_tfidf_and_lsa[j]])[0][0]*100,2),'%')"
   ]
  },
  {
   "cell_type": "markdown",
   "metadata": {},
   "source": [
    "# LDA"
   ]
  },
  {
   "cell_type": "code",
   "execution_count": 21,
   "metadata": {},
   "outputs": [
    {
     "name": "stdout",
     "output_type": "stream",
     "text": [
      "shape of matrix before LDA:  (4, 6)\n",
      "shape of matrix after LDA:  (4, 2)\n",
      "\n",
      "\n",
      "Reduced dimension matrix: \n"
     ]
    },
    {
     "data": {
      "text/plain": [
       "array([[0.16812623, 0.83187377],\n",
       "       [0.6683977 , 0.3316023 ],\n",
       "       [0.8104468 , 0.1895532 ],\n",
       "       [0.16812428, 0.83187572]])"
      ]
     },
     "execution_count": 21,
     "metadata": {},
     "output_type": "execute_result"
    }
   ],
   "source": [
    "from sklearn.decomposition import LatentDirichletAllocation as LDA_model\n",
    "lda_model = LDA_model(n_components = 2)\n",
    "print('shape of matrix before LDA: ', bow.shape)\n",
    "X_lda = lda_model.fit_transform(bow)\n",
    "print('shape of matrix after LDA: ', X_lda.shape)\n",
    "print('\\n\\nReduced dimension matrix: ')\n",
    "X_lda"
   ]
  },
  {
   "cell_type": "code",
   "execution_count": 22,
   "metadata": {},
   "outputs": [
    {
     "name": "stdout",
     "output_type": "stream",
     "text": [
      "The sentence - \" Sam I am. Long sentence. \" - and sentence - \" I am Sam \" - have a similarity score of :\n",
      "61.31 %\n",
      "The sentence - \" Sam I am. Long sentence. \" - and sentence - \" I love Sam \" - have a similarity score of :\n",
      "41.61 %\n",
      "The sentence - \" Sam I am. Long sentence. \" - and sentence - \" Sam loves eggs \" - have a similarity score of :\n",
      "100.0 %\n",
      "The sentence - \" I am Sam \" - and sentence - \" I love Sam \" - have a similarity score of :\n",
      "97.35 %\n",
      "The sentence - \" I am Sam \" - and sentence - \" Sam loves eggs \" - have a similarity score of :\n",
      "61.31 %\n",
      "The sentence - \" I love Sam \" - and sentence - \" Sam loves eggs \" - have a similarity score of :\n",
      "41.61 %\n"
     ]
    }
   ],
   "source": [
    "for i, j in list(itertools.combinations(range(0, 4), r=2)):\n",
    "    print('The sentence - \"', documents[i], '\" - and sentence - \"', documents[j], '\" - have a similarity score of :')\n",
    "    print(round(cosine_similarity([X_lda[i]], [X_lda[j]])[0][0]*100,2),'%')"
   ]
  },
  {
   "cell_type": "markdown",
   "metadata": {},
   "source": [
    "# Word2vec (pre-trained)"
   ]
  },
  {
   "cell_type": "code",
   "execution_count": 27,
   "metadata": {},
   "outputs": [
    {
     "name": "stdout",
     "output_type": "stream",
     "text": [
      "example of first 50 values of a word embedding, which can be of length 300:\n"
     ]
    },
    {
     "data": {
      "text/plain": [
       "array([ 0.038465,  0.06373 ,  0.100525, -0.046849, -0.055794, -0.009474,\n",
       "        0.025939,  0.048693, -0.048422,  0.072392,  0.02544 , -0.010938,\n",
       "        0.050554, -0.088319,  0.040283, -0.078394, -0.029317,  0.002892,\n",
       "       -0.016319, -0.054243, -0.001318,  0.055359,  0.020007, -0.009654,\n",
       "        0.108029,  0.00361 ,  0.005355, -0.07634 , -0.062258, -0.00988 ,\n",
       "       -0.006369,  0.0134  ,  0.036268,  0.021062,  0.045814,  0.003769,\n",
       "       -0.067068,  0.115643, -0.087204, -0.007275,  0.067547, -0.01851 ,\n",
       "       -0.005815, -0.006627,  0.025534, -0.012094,  0.044576, -0.027906,\n",
       "       -0.050143,  0.067182])"
      ]
     },
     "execution_count": 27,
     "metadata": {},
     "output_type": "execute_result"
    }
   ],
   "source": [
    "import numpy as np\n",
    "# loading a word2vec pretrained model is reading lines and converting to an array\n",
    "W2V_MODEL = dict()\n",
    "\n",
    "# see note about model above\n",
    "with open(W2V_PATH, 'r', encoding = 'utf-8') as f:\n",
    "    lines = f.readlines()\n",
    "    for l in lines[1:]:\n",
    "        vals = l.split()\n",
    "        W2V_MODEL[vals[0]] = np.array([float(val) for val in vals[1:300]])\n",
    "\n",
    "        \n",
    "print('example of first 50 values of a word embedding, which can be of length 300:')\n",
    "W2V_MODEL['cat_NOUN'][:50]        "
   ]
  },
  {
   "cell_type": "code",
   "execution_count": 28,
   "metadata": {},
   "outputs": [
    {
     "name": "stdout",
     "output_type": "stream",
     "text": [
      "Input of a model may involve indexing the tokens of a sentence (to later retrieve from model) as such: \n"
     ]
    },
    {
     "data": {
      "text/plain": [
       "[{0: 'cat_NOUN', 1: 'love_VERB', 2: 'milk_NOUN'},\n",
       " {0: 'dog_NOUN', 1: 'eat_VERB', 2: 'bone_NOUN'},\n",
       " {0: 'dog_NOUN', 1: 'love_VERB', 2: 'bone_NOUN'},\n",
       " {0: 'cat_NOUN', 1: 'hate_VERB', 2: 'egg_NOUN'}]"
      ]
     },
     "execution_count": 28,
     "metadata": {},
     "output_type": "execute_result"
    }
   ],
   "source": [
    "# with a lemmatizer/postagger we would get this :\n",
    "lemma_pos_documents = [\n",
    "    [('cat', 'NOUN'), ('love', 'VERB'), ('milk', 'NOUN')],\n",
    "    [('dog', 'NOUN'), ('eat', 'VERB'), ('bone', 'NOUN')],\n",
    "    [('dog', 'NOUN'), ('love', 'VERB'), ('bone', 'NOUN')],\n",
    "    [('cat', 'NOUN'), ('hate', 'VERB'), ('egg', 'NOUN')]\n",
    "]\n",
    "\n",
    "\n",
    "stoi = list()\n",
    "for doc in lemma_pos_documents:\n",
    "    stoi.append({string+'_'+pos:i for i, (string, pos) in enumerate(doc)})\n",
    "itos = [{v:k for k, v in doc.items()} for doc in stoi]\n",
    "print('Input of a model may involve indexing the tokens of a sentence (to later retrieve from model) as such: ')\n",
    "itos"
   ]
  },
  {
   "cell_type": "code",
   "execution_count": 31,
   "metadata": {},
   "outputs": [
    {
     "name": "stdout",
     "output_type": "stream",
     "text": [
      "Here is a visualization of a vector space, which has been reduced to two dimensions using PCA\n"
     ]
    },
    {
     "data": {
      "image/png": "[encoded data removed]",
      "text/plain": [
       "<Figure size 720x720 with 1 Axes>"
      ]
     },
     "metadata": {
      "needs_background": "light"
     },
     "output_type": "display_data"
    }
   ],
   "source": [
    "# Purely for visualization purposes, we can plot word embeddings \n",
    "\n",
    "from sklearn.decomposition import PCA\n",
    "import seaborn as sns\n",
    "import pandas as pd\n",
    "import matplotlib.pyplot as plt\n",
    "\n",
    "vocabulary = {word+'_'+pos for doc in lemma_pos_documents for word, pos in doc}\n",
    "\n",
    "\n",
    "def label_point(x, y, val, ax):\n",
    "    a = pd.concat({'x': x, 'y': y, 'val': val}, axis=1)\n",
    "    for i, point in a.iterrows():\n",
    "        ax.text(point['x']+.02, point['y'], str(point['val']))\n",
    "        \n",
    "        \n",
    "def plot_w2v_2d(vocabulary):\n",
    "    vectors = [W2V_MODEL[word] for word in vocabulary]\n",
    "    pca = PCA(n_components=2, svd_solver='full')\n",
    "    reduced_dimension_vectors = pca.fit_transform(vectors)\n",
    "    df = pd.DataFrame([{'word':word.split('_')[0], 'x':dimensions[0], 'y':dimensions[1]} for word, dimensions in zip(vocabulary, reduced_dimension_vectors)])\n",
    "    fig = plt.figure(figsize = (10,10))\n",
    "    ax = sns.scatterplot('x', 'y', hue = 'word', data = df)\n",
    "    label_point(df.x, df.y, df.word, ax)\n",
    "    plt.show()\n",
    "    \n",
    "print('Here is a visualization of a vector space, which has been reduced to two dimensions using PCA')    \n",
    "plot_w2v_2d(vocabulary)"
   ]
  },
  {
   "cell_type": "markdown",
   "metadata": {},
   "source": [
    "The evaluation for the word2vec model involves going from vector representations of words, to a single representation of a document. There are many methods which may acheive this, but [the following adapted algorithm](https://gist.github.com/adsieg/95e8437e00a21a85f22ba7134812ec6a#file-cosinedistance-py) is an (over) simplified way of doing such, pulled [from this really great source](https://medium.com/@adriensieg/text-similarities-da019229c894)"
   ]
  },
  {
   "cell_type": "code",
   "execution_count": 32,
   "metadata": {},
   "outputs": [
    {
     "name": "stdout",
     "output_type": "stream",
     "text": [
      "The sentence - \" cat love milk \" - and sentence - \" dog eat bone \" - have a similarity score of :\n",
      "68.0 %\n",
      "The sentence - \" cat love milk \" - and sentence - \" dog love bone \" - have a similarity score of :\n",
      "77.0 %\n",
      "The sentence - \" cat love milk \" - and sentence - \" cat hate egg \" - have a similarity score of :\n",
      "82.0 %\n",
      "The sentence - \" dog eat bone \" - and sentence - \" dog love bone \" - have a similarity score of :\n",
      "88.0 %\n",
      "The sentence - \" dog eat bone \" - and sentence - \" cat hate egg \" - have a similarity score of :\n",
      "69.0 %\n",
      "The sentence - \" dog love bone \" - and sentence - \" cat hate egg \" - have a similarity score of :\n",
      "72.0 %\n"
     ]
    }
   ],
   "source": [
    "# a very simplified solution to representing a document would be averaging all tokens' embeddings and computing cosine similarity\n",
    "def cosine_distance_wordembedding_method(s1, s2):\n",
    "    vector_1 = np.mean([W2V_MODEL[word] for word in s1 if word in W2V_MODEL],axis=0)\n",
    "    vector_2 = np.mean([W2V_MODEL[word] for word in s2 if word in W2V_MODEL],axis=0)\n",
    "    return cosine_similarity([vector_1], [vector_2])\n",
    "\n",
    "\n",
    "for i, j in list(itertools.combinations(range(0, 4), r=2)): \n",
    "    print('The sentence - \"', ' '.join([x.split('_')[0] for x in stoi[i]]), '\" - and sentence - \"', ' '.join([x.split('_')[0] for x in stoi[j]]), '\" - have a similarity score of :')\n",
    "    print(round(cosine_distance_wordembedding_method(stoi[i], stoi[j])[0][0], 2)*100, '%')"
   ]
  },
  {
   "cell_type": "code",
   "execution_count": 24,
   "metadata": {},
   "outputs": [],
   "source": []
  }
 ],
 "metadata": {
  "kernelspec": {
   "display_name": "Python 3",
   "language": "python",
   "name": "python3"
  },
  "language_info": {
   "codemirror_mode": {
    "name": "ipython",
    "version": 3
   },
   "file_extension": ".py",
   "mimetype": "text/x-python",
   "name": "python",
   "nbconvert_exporter": "python",
   "pygments_lexer": "ipython3",
   "version": "3.7.4"
  },
  "name": "Demo_NLP_Methods",
  "notebookId": 3497242120446740
 },
 "nbformat": 4,
 "nbformat_minor": 4
}
